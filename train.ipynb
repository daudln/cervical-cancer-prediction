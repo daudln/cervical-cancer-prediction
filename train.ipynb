{
 "cells": [
  {
   "cell_type": "code",
   "execution_count": 56,
   "metadata": {},
   "outputs": [],
   "source": [
    "import pandas as pd\n",
    "from sklearn.model_selection import train_test_split, GridSearchCV\n",
    "from sklearn.ensemble import RandomForestClassifier\n",
    "from sklearn.preprocessing import StandardScaler\n",
    "from sklearn.pipeline import Pipeline\n",
    "import joblib\n",
    "import warnings"
   ]
  },
  {
   "cell_type": "code",
   "execution_count": 57,
   "metadata": {},
   "outputs": [],
   "source": [
    "warnings.filterwarnings(\"ignore\")"
   ]
  },
  {
   "cell_type": "code",
   "execution_count": 58,
   "metadata": {},
   "outputs": [],
   "source": [
    "df = pd.read_csv('clean_cancer_cervical.csv')"
   ]
  },
  {
   "cell_type": "code",
   "execution_count": 59,
   "metadata": {},
   "outputs": [],
   "source": [
    "column_mapping = {\n",
    "    'Dx:Cancer':'dx_cancer',\n",
    "    'Age': 'age',\n",
    "    'Number of sexual partners': 'num_sexual_partners',\n",
    "    'First sexual intercourse': 'first_sexual_intercourse',\n",
    "    'Num of pregnancies': 'num_pregnancies',\n",
    "    'Smokes (years)': 'smoking_years',\n",
    "    'Hormonal Contraceptives (years)': 'hormonal_contraceptives_years',\n",
    "    'IUD (years)': 'iud_years',\n",
    "    'STDs (number)': 'num_stds',\n",
    "    'STDs:condylomatosis': 'stds_condylomatosis',\n",
    "    'STDs:cervical condylomatosis': 'stds_cervical_condylomatosis',\n",
    "    'STDs:HIV': 'stds_hiv',\n",
    "    'STDs:HPV': 'stds_hpv',\n",
    "    'Dx:CIN': 'dx_cin',\n",
    "    'Dx:HPV': 'dx_hpv'\n",
    "}\n",
    "\n",
    "df = df.rename(columns=column_mapping)"
   ]
  },
  {
   "cell_type": "code",
   "execution_count": 60,
   "metadata": {},
   "outputs": [],
   "source": [
    "y = df['dx_cancer']\n",
    "x = df.drop('dx_cancer', axis=1)"
   ]
  },
  {
   "cell_type": "code",
   "execution_count": 61,
   "metadata": {},
   "outputs": [
    {
     "data": {
      "text/plain": [
       "Index(['age', 'num_sexual_partners', 'first_sexual_intercourse',\n",
       "       'num_pregnancies', 'smoking_years', 'hormonal_contraceptives_years',\n",
       "       'iud_years', 'num_stds', 'stds_condylomatosis',\n",
       "       'stds_cervical_condylomatosis', 'stds_hiv', 'stds_hpv', 'dx_cin',\n",
       "       'dx_hpv'],\n",
       "      dtype='object')"
      ]
     },
     "execution_count": 61,
     "metadata": {},
     "output_type": "execute_result"
    }
   ],
   "source": [
    "x.columns"
   ]
  },
  {
   "cell_type": "code",
   "execution_count": 62,
   "metadata": {},
   "outputs": [],
   "source": [
    "X_train, X_test, y_train, y_test = train_test_split(x, y, test_size=0.2, random_state=42, stratify=y)"
   ]
  },
  {
   "cell_type": "code",
   "execution_count": 63,
   "metadata": {},
   "outputs": [],
   "source": [
    "pipe = Pipeline([\n",
    "    (\"scale\", StandardScaler()),\n",
    "    (\"model\", RandomForestClassifier())\n",
    "])\n"
   ]
  },
  {
   "cell_type": "code",
   "execution_count": 64,
   "metadata": {},
   "outputs": [],
   "source": [
    "param_grid = {\n",
    "    'model__n_estimators': [50, 100, 200],\n",
    "    'model__max_depth': [None, 10, 20],\n",
    "    'model__min_samples_split': [2, 5, 10],\n",
    "    'model__min_samples_leaf': [1, 2, 4],\n",
    "    'model__max_features': ['auto', 'sqrt', 'log2'],\n",
    "    'model__class_weight': ['balanced', 'balanced_subsample', None]\n",
    "}\n",
    "model = GridSearchCV(estimator=pipe, cv=3, param_grid=param_grid)"
   ]
  },
  {
   "cell_type": "code",
   "execution_count": 65,
   "metadata": {},
   "outputs": [],
   "source": [
    "model = model.fit(X_train, y_train)"
   ]
  },
  {
   "cell_type": "code",
   "execution_count": 66,
   "metadata": {},
   "outputs": [
    {
     "data": {
      "text/plain": [
       "['cancer_model_best.joblib']"
      ]
     },
     "execution_count": 66,
     "metadata": {},
     "output_type": "execute_result"
    }
   ],
   "source": [
    "joblib.dump(value=model.best_estimator_, filename=\"cancer_model_best.joblib\")"
   ]
  }
 ],
 "metadata": {
  "kernelspec": {
   "display_name": "venv",
   "language": "python",
   "name": "python3"
  },
  "language_info": {
   "codemirror_mode": {
    "name": "ipython",
    "version": 3
   },
   "file_extension": ".py",
   "mimetype": "text/x-python",
   "name": "python",
   "nbconvert_exporter": "python",
   "pygments_lexer": "ipython3",
   "version": "3.11.6"
  }
 },
 "nbformat": 4,
 "nbformat_minor": 2
}
